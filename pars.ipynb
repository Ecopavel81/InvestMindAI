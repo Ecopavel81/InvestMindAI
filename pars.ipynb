{
 "cells": [
  {
   "cell_type": "code",
   "execution_count": 2,
   "id": "2bab48d4-9dd3-4125-9bba-e3e645fc95f6",
   "metadata": {},
   "outputs": [],
   "source": [
    "from binance.spot import Spot as Client\n",
    "import pandas as pd\n",
    "import warnings\n",
    "import numpy as np\n",
    "\n",
    "warnings.filterwarnings('ignore')\n",
    "pd.options.display.float_format = '{:.8f}'.format\n",
    "\n",
    "s = secret_key\n",
    "a = api_key\n",
    "client = Client(a, s)"
   ]
  },
  {
   "cell_type": "code",
   "execution_count": null,
   "id": "0d824473-b0c5-474d-a90b-0ffefbe7ff46",
   "metadata": {},
   "outputs": [],
   "source": [
    "all_klines = klines\n",
    "for i in range(50):\n",
    "    \n",
    "    klines = client.klines(\n",
    "    symbol='BTCUSDT',\n",
    "    interval='1h',\n",
    "    endTime=time,\n",
    "    limit=1000    \n",
    "    )\n",
    "    \n",
    "    all_klines = klines[:-1] + all_klines\n",
    "    time = klines[0][0]\n",
    "\n",
    "df = pd.DataFrame(all_klines, columns=[\n",
    "    'open_time',\n",
    "    'open',\n",
    "    'high',\n",
    "    'low',\n",
    "    'close',\n",
    "    'volume',\n",
    "    'close_time',\n",
    "    'quote_asset_volume',\n",
    "    'number_of_trades',\n",
    "    'taker_buy_base_asset_volume',\n",
    "    'taker_buy_quote_asset_volume',\n",
    "    'ignore'\n",
    "    ])\n",
    "\n",
    "df['open_time'] = pd.to_datetime(df['open_time'], unit='ms')\n",
    "df['close_time'] = pd.to_datetime(df['close_time'], unit='ms')\n",
    "\n",
    "df.to_csv('kandles.csv', index=False)"
   ]
  }
 ],
 "metadata": {
  "kernelspec": {
   "display_name": "Python 3 (ipykernel)",
   "language": "python",
   "name": "python3"
  },
  "language_info": {
   "codemirror_mode": {
    "name": "ipython",
    "version": 3
   },
   "file_extension": ".py",
   "mimetype": "text/x-python",
   "name": "python",
   "nbconvert_exporter": "python",
   "pygments_lexer": "ipython3",
   "version": "3.12.4"
  }
 },
 "nbformat": 4,
 "nbformat_minor": 5
}
